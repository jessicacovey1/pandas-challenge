{
 "cells": [
  {
   "cell_type": "code",
   "execution_count": null,
   "metadata": {},
   "outputs": [],
   "source": [
    "import pandas as pd"
   ]
  },
  {
   "cell_type": "code",
   "execution_count": null,
   "metadata": {},
   "outputs": [],
   "source": [
    "school_data_to_load = \"Resources/schools_complete.csv\"\n",
    "school_data = pd.read_csv(school_data_to_load)\n",
    "school_data.head()"
   ]
  },
  {
   "cell_type": "code",
   "execution_count": null,
   "metadata": {},
   "outputs": [],
   "source": [
    "student_data_to_load = \"Resources/students_complete.csv\"\n",
    "student_data = pd.read_csv(student_data_to_load)\n",
    "student_data.head()"
   ]
  },
  {
   "cell_type": "code",
   "execution_count": null,
   "metadata": {},
   "outputs": [],
   "source": [
    "school_student_data_complete = pd.merge(student_data, school_data, how=\"left\", on=[\"school_name\",\"school_name\"])\n",
    "school_student_data_complete.columns"
   ]
  },
  {
   "cell_type": "code",
   "execution_count": null,
   "metadata": {},
   "outputs": [],
   "source": [
    "#Calculate the total number of schools\n",
    "#Calculate the total number of students\n",
    "#Calculate the total budget\n",
    "#Calculate the average math score \n",
    "#Calculate the average reading score\n",
    "\n",
    "#Calculate the percentage of students with a passing math score (70 or greater)\n",
    "#Calculate the percentage of students with a passing reading score (70 or greater)\n",
    "#Calculate the percentage of students who passed math and reading (% Overall Passing)\n",
    "#Create a dataframe to hold the above results\n",
    "#Optional: give the displayed data cleaner formatting\n",
    "\n",
    "school_count = len(school_data[\"school_name\"].unique())\n",
    "student_count = len(student_data[\"Student ID\"].unique())\n",
    "school_data[\"budget\"].sum()\n",
    "student_data[\"math_score\"].mean()\n",
    "student_data[\"reading_score\"].mean()\n",
    "\n",
    "passing_math_score = df.loc[df[\"math_score\"]>=70]\n",
    "\n",
    "passing_math_score.head()\n"
   ]
  },
  {
   "cell_type": "code",
   "execution_count": null,
   "metadata": {},
   "outputs": [],
   "source": []
  }
 ],
 "metadata": {
  "kernelspec": {
   "display_name": "Python [conda env:PythonData]",
   "language": "python",
   "name": "conda-env-PythonData-py"
  },
  "language_info": {
   "codemirror_mode": {
    "name": "ipython",
    "version": 3
   },
   "file_extension": ".py",
   "mimetype": "text/x-python",
   "name": "python",
   "nbconvert_exporter": "python",
   "pygments_lexer": "ipython3",
   "version": "3.6.10"
  }
 },
 "nbformat": 4,
 "nbformat_minor": 4
}
